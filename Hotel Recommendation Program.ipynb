{
 "cells": [
  {
   "cell_type": "markdown",
   "metadata": {},
   "source": [
    "#This is my code utilizing the TripAdvisor data. In particular, I wanted to use the data to give hotel recommendations to users. \n",
    "My program is for users that would like hotel recommendations that specifically people from their own country have booked and have rated highly.\n",
    "Specifically, my program asks the user where they are from, what city they are looking for a hotel in (among the available in the TripAdvisor dataset), and what type of hotel they are looking for. The program looks through the dataset and filters according to several factors. 1) It only displays hotels where previous users from the same country have booked the hotel, 2) the hotels must match the city desired, and 3) the hotels must match the hotel type desired. The program returns a list of the top five Trip-Advisor user-rated locations. "
   ]
  },
  {
   "cell_type": "code",
   "execution_count": 13,
   "metadata": {},
   "outputs": [],
   "source": [
    "import pandas as pd\n",
    "import sqlite3\n",
    "\n",
    "#df = pd.read_csv('full_data.csv')\n",
    "hotel = pd.read_csv('hotel_data.csv')\n",
    "activity = pd.read_csv('activity_data.csv')\n",
    "\n",
    "user_loc = \"\"\n",
    "hotel_type = \"\"\n",
    "city = \"\""
   ]
  },
  {
   "cell_type": "code",
   "execution_count": 47,
   "metadata": {},
   "outputs": [],
   "source": [
    "def hotel_rec():\n",
    "    user_loc = input(\"Where are you from? \")\n",
    "    if not(user_loc in activity[\"user_country\"].unique()):\n",
    "        print(\"Sorry, you there have been no TripAdvisor hotel reviews by people from your country.\")\n",
    "        return\n",
    "\n",
    "    print(\"The available hotel city locations you may choose from are: \")\n",
    "    for typ in hotel[\"city_name\"].unique():\n",
    "        print(typ, end=', ')\n",
    "    city = input(\"Which city are you looking for a hotel in? \")\n",
    "    if not(city in hotel[\"city_name\"].unique()):\n",
    "        print(\"Sorry, you did not enter a valid city!\")\n",
    "        return\n",
    "    \n",
    "    print(\"The available hotel types are: \")\n",
    "    for typ in hotel[\"hotel_type\"].unique():\n",
    "        print(typ, end=\", \")\n",
    "    hotel_type = input(\"What hotel type do you want?\" )\n",
    "    if not(hotel_type in hotel[\"hotel_type\"].unique()):\n",
    "        print(\"Sorry, you did not enter a valid hotel type!\")\n",
    "        return\n",
    "    \n",
    "    make_recommendation(user_loc, hotel_type, city)"
   ]
  },
  {
   "cell_type": "code",
   "execution_count": 46,
   "metadata": {},
   "outputs": [],
   "source": [
    "def make_recommendation(location, hotel_type, city):\n",
    "    print('')\n",
    "    print('Hello, thank you for using our hotel recommendation service.')\n",
    "    print('Below are the top hotels rated by users from your country, according to your criteria:')\n",
    "    print('Results are listed as (Hotel Name, TripAdvisor Rating /50)')\n",
    "    conn = sqlite3.connect(\"data.db\")\n",
    "    c = conn.cursor()\n",
    "    \n",
    "    c.execute('DROP TABLE IF EXISTS \"activity\";')\n",
    "    c.execute('DROP TABLE IF EXISTS \"hotels\";')\n",
    "    conn.commit()\n",
    "\n",
    "    hotel.to_sql(\"hotel_table\", con = conn, if_exists = 'replace')\n",
    "    activity.to_sql(\"activity_table\", con = conn, if_exists = 'replace')\n",
    "    \n",
    "    t=(hotel_type, city, location)\n",
    "    c.execute(\n",
    "        \"SELECT h.hotel_name, h.bubble_score, h.city_name, h.hotel_type, a.user_country \\\n",
    "        FROM activity_table AS a  \\\n",
    "        LEFT OUTER JOIN hotel_table AS h\\\n",
    "        ON h.hotel_id == a.hotel_id \\\n",
    "        WHERE a.user_action == 'booking' AND h.hotel_type = ? AND h.city_name = ? AND a.user_country = ?\\\n",
    "        GROUP BY h.hotel_name ORDER BY h.bubble_score DESC LIMIT 5\",t)\n",
    "    ans = c.fetchall()\n",
    "    if len(ans) == 0:\n",
    "        print(\"Sorry, there are no matching hotels.\")\n",
    "    else:\n",
    "        for i in ans:\n",
    "            print(i)\n",
    "    print('END')"
   ]
  },
  {
   "cell_type": "code",
   "execution_count": 50,
   "metadata": {},
   "outputs": [
    {
     "name": "stdout",
     "output_type": "stream",
     "text": [
      "Where are you from? Hong Kong\n",
      "Sorry, you there have been no TripAdvisor hotel reviews by people from your country.\n"
     ]
    }
   ],
   "source": [
    "hotel_rec()"
   ]
  },
  {
   "cell_type": "code",
   "execution_count": null,
   "metadata": {},
   "outputs": [],
   "source": []
  }
 ],
 "metadata": {
  "kernelspec": {
   "display_name": "Python 3",
   "language": "python",
   "name": "python3"
  },
  "language_info": {
   "codemirror_mode": {
    "name": "ipython",
    "version": 3
   },
   "file_extension": ".py",
   "mimetype": "text/x-python",
   "name": "python",
   "nbconvert_exporter": "python",
   "pygments_lexer": "ipython3",
   "version": "3.7.1"
  }
 },
 "nbformat": 4,
 "nbformat_minor": 2
}
